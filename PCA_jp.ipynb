{
 "cells": [
  {
   "cell_type": "markdown",
   "metadata": {},
   "source": [
    "##### Your Turn\n",
    "\n",
    "In the previous video, you saw an example of working with some MNIST digits data.  The MNIST dataset can be found here: http://yann.lecun.com/exdb/mnist/.\n",
    "\n",
    "First, let's import the necessary libraries.  Notice there are also some imports from a file called `helper_functions`, which contains the functions used in the previous video."
   ]
  },
  {
   "cell_type": "code",
   "execution_count": 1,
   "metadata": {},
   "outputs": [],
   "source": [
    "import pandas as pd\n",
    "import numpy as np\n",
    "from sklearn.decomposition import PCA\n",
    "from sklearn.preprocessing import StandardScaler\n",
    "from sklearn.ensemble import RandomForestClassifier\n",
    "from sklearn.model_selection import train_test_split\n",
    "from sklearn.metrics import confusion_matrix, accuracy_score\n",
    "#from helper_functions import show_images, show_images_by_digit, fit_random_forest_classifier2 \n",
    "#from helper_functions import fit_random_forest_classifier, do_pca, plot_components\n",
    "#import test_code as t\n",
    "\n",
    "import matplotlib.image as mpimg\n",
    "import matplotlib.pyplot as plt\n",
    "import seaborn as sns\n",
    "from sklearn import metrics\n",
    "%matplotlib inline"
   ]
  },
  {
   "cell_type": "code",
   "execution_count": 2,
   "metadata": {},
   "outputs": [],
   "source": [
    "def fit_random_forest_classifier(X, y):\n",
    "    '''\n",
    "    INPUT: names are pretty self explanatory\n",
    "    OUTPUT: none - prints the confusion matrix and accuracy\n",
    "    '''\n",
    "    #First let's create training and testing data\n",
    "    X_train, X_test, y_train, y_test = train_test_split(X, y, test_size=0.33, random_state=42)\n",
    "\n",
    "    #We could grid search and tune, but let's just fit a simple model to see how it does\n",
    "    #instantiate\n",
    "    clf = RandomForestClassifier(n_estimators=100, max_depth=None)\n",
    "\n",
    "    #fit\n",
    "    clf.fit(X_train, y_train)\n",
    "\n",
    "    #predict\n",
    "    y_preds = clf.predict(X_test)\n",
    "\n",
    "    #score\n",
    "    print(confusion_matrix(y_test, y_preds))\n",
    "    acc = accuracy_score(y_test, y_preds)\n",
    "    print(acc)\n",
    "    return acc"
   ]
  },
  {
   "cell_type": "code",
   "execution_count": 3,
   "metadata": {},
   "outputs": [],
   "source": [
    "def fit_random_forest_classifier2(X, y):\n",
    "    '''\n",
    "    INPUT: X - the x-matrix of input features\n",
    "           y - the response column \n",
    "    OUTPUT: none - prints the confusion matrix and accuracy\n",
    "    '''\n",
    "    #First let's create training and testing data\n",
    "    X_train, X_test, y_train, y_test = train_test_split(X, y, test_size=0.33, random_state=42)\n",
    "\n",
    "    #We could grid search and tune, but let's just fit a simple model to see how it does\n",
    "    #instantiate\n",
    "    clf = RandomForestClassifier(n_estimators=100, max_depth=None)\n",
    "\n",
    "    #fit\n",
    "    clf.fit(X_train, y_train)\n",
    "\n",
    "    #predict\n",
    "    y_preds = clf.predict(X_test)\n",
    "\n",
    "    #score\n",
    "    acc = accuracy_score(y_test, y_preds)\n",
    "    return acc"
   ]
  },
  {
   "cell_type": "code",
   "execution_count": 4,
   "metadata": {},
   "outputs": [],
   "source": [
    "def do_pca(n_components, data):\n",
    "    '''\n",
    "    Transforms data using PCA to create n_components, and provides back the results of the\n",
    "    transformation.\n",
    "\n",
    "    INPUT: n_components - int - the number of principal components to create\n",
    "           data - the data you would like to transform\n",
    "\n",
    "    OUTPUT: pca - the pca object created after fitting the data\n",
    "            X_pca - the transformed X matrix with new number of components\n",
    "    '''\n",
    "    X = StandardScaler().fit_transform(data)\n",
    "    pca = PCA(n_components)\n",
    "    X_pca = pca.fit_transform(X)\n",
    "    return pca, X_pca"
   ]
  },
  {
   "cell_type": "code",
   "execution_count": 5,
   "metadata": {},
   "outputs": [],
   "source": [
    "def plot_components(X, y):\n",
    "    '''\n",
    "    plots the data in a 2 dimensional space to view separation\n",
    "    INPUT: X - the x-matrix of input features\n",
    "           y - the response column \n",
    "    OUTPUT: none\n",
    "    '''\n",
    "    x_min, x_max = np.min(X, 0), np.max(X, 0)\n",
    "    X = (X - x_min) / (x_max - x_min)\n",
    "    plt.figure(figsize=(10, 6))\n",
    "    for i in range(X.shape[0]):\n",
    "        plt.text(X[i, 0], X[i, 1], str(y[i]), color=plt.cm.Set1(y[i]), fontdict={'size': 15})\n",
    "\n",
    "    plt.xticks([]), plt.yticks([]), plt.ylim([-0.1,1.1]), plt.xlim([-0.1,1.1])"
   ]
  },
  {
   "cell_type": "markdown",
   "metadata": {},
   "source": [
    "`1.` Use pandas to read in the dataset, which can be found in this workspace using the filepath **'./data/train.csv'**.  If you have missing values, fill them with 0.  Take a look at info about the data using `head`, `tail`, `describe`, `info`, etc.  You can learn more about the data values from the article here: https://homepages.inf.ed.ac.uk/rbf/HIPR2/value.htm."
   ]
  },
  {
   "cell_type": "code",
   "execution_count": 6,
   "metadata": {},
   "outputs": [
    {
     "name": "stdout",
     "output_type": "stream",
     "text": [
      "True\n",
      "114\n"
     ]
    }
   ],
   "source": [
    "data = pd.read_csv('./data/train.csv')\n",
    "#print('top fo file ',data.head())\n",
    "# print('bottom of file ',data.tail())\n",
    "#print(data.describe())\n",
    "print(data.isnull().values.any())\n",
    "print(data.isnull().sum().sum())"
   ]
  },
  {
   "cell_type": "code",
   "execution_count": 7,
   "metadata": {},
   "outputs": [
    {
     "name": "stdout",
     "output_type": "stream",
     "text": [
      "False\n",
      "0\n"
     ]
    }
   ],
   "source": [
    "#data1= data.dropna()\n",
    "# If I use dropna instead of fillna there are troubles running t.questions...\n",
    "# so what's the difference?\n",
    "data1= data.fillna(0)\n",
    "print(data1.isnull().values.any())\n",
    "print(data1.isnull().sum().sum())"
   ]
  },
  {
   "cell_type": "markdown",
   "metadata": {},
   "source": [
    "`2.` Create a vector called y that holds the **label** column of the dataset.  Store all other columns holding the pixel data of your images in X."
   ]
  },
  {
   "cell_type": "code",
   "execution_count": 8,
   "metadata": {},
   "outputs": [
    {
     "name": "stdout",
     "output_type": "stream",
     "text": [
      "(6304,)\n",
      "(6304, 784)\n"
     ]
    }
   ],
   "source": [
    "y = data1['label']\n",
    "X = data1.drop(['label'], axis = 1)\n",
    "print(y.shape)\n",
    "print(X.shape)"
   ]
  },
  {
   "cell_type": "code",
   "execution_count": null,
   "metadata": {},
   "outputs": [],
   "source": [
    "#Check Your Solution \n",
    "#t.question_two_check(y, X)"
   ]
  },
  {
   "cell_type": "markdown",
   "metadata": {},
   "source": [
    "`3.` Now use the `show_images_by_digit` function from the `helper_functions` module to take a look some of the `1`'s, `2`'s, `3`'s, or any other value you are interested in looking at.  Do they all look like what you would expect?"
   ]
  },
  {
   "cell_type": "code",
   "execution_count": null,
   "metadata": {},
   "outputs": [],
   "source": [
    "#show_images_by_digit(2) # Try looking at a few other digits"
   ]
  },
  {
   "cell_type": "code",
   "execution_count": 9,
   "metadata": {},
   "outputs": [
    {
     "name": "stdout",
     "output_type": "stream",
     "text": [
      "0.9389716482460355\n"
     ]
    }
   ],
   "source": [
    "# first attempt\n",
    "X_train, X_test, y_train, y_test = train_test_split(X, y, test_size=0.33, random_state=42)\n",
    "clf0=RandomForestClassifier(n_estimators=100, max_depth=None)\n",
    "clf0.fit(X_train, y_train)\n",
    "y_pred =clf0.predict(X_test)\n",
    "score=metrics.accuracy_score(y_test, y_pred)\n",
    "print(score)"
   ]
  },
  {
   "cell_type": "markdown",
   "metadata": {},
   "source": [
    "`4.` Now that you have had a chance to look through some of the data, you can try some different algorithms to see what works well to use the X matrix to predict the response well.  If you would like to use the function I used in the video regarding random forests, you can run the code below, but you might also try any of the supervised techniques you learned in the previous course to see what works best.\n",
    "\n",
    "If you decide to put together your own classifier, remember the 4 steps to this process:\n",
    "\n",
    "**I.** Instantiate your model. (with all the hyperparameter values you care about)\n",
    "\n",
    "**II.** Fit your model. (to the training data)\n",
    "\n",
    "**III.** Predict using your fitted model.  (on the test data)\n",
    "\n",
    "**IV.** Score your model. (comparing the predictions to the actual values on the test data)\n",
    "\n",
    "You can also try a grid search to see if you can improve on your initial predictions."
   ]
  },
  {
   "cell_type": "code",
   "execution_count": 10,
   "metadata": {},
   "outputs": [
    {
     "name": "stdout",
     "output_type": "stream",
     "text": [
      "0.9356078808265257\n",
      "0.9356078808265257\n"
     ]
    }
   ],
   "source": [
    "# second attempt\n",
    "X_train, X_test, y_train, y_test = train_test_split(X, y, test_size=0.33, random_state=42)\n",
    "clf = RandomForestClassifier(n_estimators = 100, max_depth=None)\n",
    "clf_f = clf.fit(X_train, y_train)\n",
    "predicted_labels = clf_f.predict(X_test)\n",
    "score = clf.score(X_test, y_test)\n",
    "score1 = metrics.accuracy_score(y_test, predicted_labels)\n",
    "print(score)\n",
    "print(score1)"
   ]
  },
  {
   "cell_type": "code",
   "execution_count": 11,
   "metadata": {},
   "outputs": [
    {
     "name": "stdout",
     "output_type": "stream",
     "text": [
      "[[200   0   1   0   0   1   6   0   1   0]\n",
      " [  0 235   2   0   0   2   1   2   1   0]\n",
      " [  1   5 214   0   2   0   1   5   0   0]\n",
      " [  2   0   4 175   0   7   0   1   1   1]\n",
      " [  1   0   0   0 172   0   1   0   0   4]\n",
      " [  2   1   0   4   0 174   4   0   1   0]\n",
      " [  2   0   1   0   0   2 206   0   0   0]\n",
      " [  0   0   6   1   6   0   0 206   1   5]\n",
      " [  0   1   0   8   1   5   0   0 187   0]\n",
      " [  2   1   1   1  10   1   0   2   4 186]]\n",
      "0.9394521864488227\n",
      "accuracy  0.9394521864488227\n"
     ]
    }
   ],
   "source": [
    "# third attempt: used the proviced function for RFC\n",
    "acc = fit_random_forest_classifier(X, y)\n",
    "print('accuracy ', acc)"
   ]
  },
  {
   "cell_type": "markdown",
   "metadata": {},
   "source": [
    "`5.` Now for the purpose of this lesson, to look at PCA.  In the video, I created a model just using two features.  Replicate the process below. You can use the same `do_pca` function that was created in the previous video.  Store your variables in **pca** and **X_pca**."
   ]
  },
  {
   "cell_type": "code",
   "execution_count": null,
   "metadata": {},
   "outputs": [],
   "source": [
    "do_pca?"
   ]
  },
  {
   "cell_type": "code",
   "execution_count": 12,
   "metadata": {},
   "outputs": [],
   "source": [
    "pca, X_pca = do_pca(30, data1)"
   ]
  },
  {
   "cell_type": "markdown",
   "metadata": {},
   "source": [
    "`6.` The **X_pca** has reduced the original number of more than 700 features down to only 2 features that capture the majority of the variability in the pixel values.  Use the space below to fit a model using these two features to predict the written value.  You can use the random forest model by running `fit_random_forest_classifier` the same way as in the video. How well does it perform?"
   ]
  },
  {
   "cell_type": "code",
   "execution_count": null,
   "metadata": {},
   "outputs": [],
   "source": [
    "fit_random_forest_classifier?"
   ]
  },
  {
   "cell_type": "code",
   "execution_count": 13,
   "metadata": {},
   "outputs": [
    {
     "name": "stdout",
     "output_type": "stream",
     "text": [
      "[[193   0   3   1   0   2   6   1   2   1]\n",
      " [  0 232   2   0   0   1   2   0   6   0]\n",
      " [  2   3 207   4   2   0   3   4   2   1]\n",
      " [  0   0  11 167   0   5   1   2   5   0]\n",
      " [  0   0   5   0 158   1   2   2   0  10]\n",
      " [  0   0   1   7   1 169   2   0   3   3]\n",
      " [  3   0   2   0   3   0 202   0   1   0]\n",
      " [  0   0   6   2   3   0   2 197   2  13]\n",
      " [  2   1   1   7   3   9   1   0 177   1]\n",
      " [  1   0   2   3  13   0   0  15   2 172]]\n",
      "0.9005285920230658\n",
      "0.9005285920230658\n"
     ]
    }
   ],
   "source": [
    "acc_30 = fit_random_forest_classifier(X_pca, y)\n",
    "print(acc_30)"
   ]
  },
  {
   "cell_type": "markdown",
   "metadata": {},
   "source": [
    "`7.` Now you can look at the separation of the values using the `plot_components` function.  If you plot all of the points (more than 40,000), you will likely not be able to see much of what is happening.  I recommend plotting just a subset of the data.  Which value(s) have some separation that are being predicted better than others based on these two components?"
   ]
  },
  {
   "cell_type": "code",
   "execution_count": 14,
   "metadata": {},
   "outputs": [
    {
     "data": {
      "image/png": "[encoded data removed]",
      "text/plain": [
       "<Figure size 720x432 with 1 Axes>"
      ]
     },
     "metadata": {},
     "output_type": "display_data"
    }
   ],
   "source": [
    "# Try plotting some of the numbers below - you can change the number\n",
    "# of digits that are plotted, but it is probably best not to plot the \n",
    "# entire dataset.  Your visual will not be readable.\n",
    "\n",
    "plot_components(X_pca[:30], y[:30])"
   ]
  },
  {
   "cell_type": "markdown",
   "metadata": {},
   "source": [
    "`8.` See if you can find a reduced number of features that provides better separation to make predictions.  Say you want to get separation that allows for accuracy of more than 90%, how many principal components are needed to obtain this level of accuracy?  Were you able to substantially reduce the number of features needed in your final model?"
   ]
  },
  {
   "cell_type": "code",
   "execution_count": null,
   "metadata": {},
   "outputs": [],
   "source": []
  },
  {
   "cell_type": "markdown",
   "metadata": {},
   "source": [
    "`9.` It is possible that extra features in the dataset even lead to overfitting or the [curse of dimensionality](https://stats.stackexchange.com/questions/65379/machine-learning-curse-of-dimensionality-explained).  Do you have evidence of this happening for this dataset?  Can you support your evidence with a visual or table?  To avoid printing out all of the metric results, I created another function called `fit_random_forest_classifier2`.  I ran through a significant number of components to create the visual for the solution, but I strongly recommend you look in the range below 100 principal components!"
   ]
  },
  {
   "cell_type": "code",
   "execution_count": 15,
   "metadata": {},
   "outputs": [],
   "source": [
    "acc_30_new = fit_random_forest_classifier2(X_pca, y)\n"
   ]
  },
  {
   "cell_type": "code",
   "execution_count": 16,
   "metadata": {},
   "outputs": [
    {
     "name": "stdout",
     "output_type": "stream",
     "text": [
      "0.9010091302258529\n"
     ]
    }
   ],
   "source": [
    "print(acc_30_new)"
   ]
  },
  {
   "cell_type": "code",
   "execution_count": 17,
   "metadata": {},
   "outputs": [
    {
     "name": "stdout",
     "output_type": "stream",
     "text": [
      "number of components  2  accuracy  0.35944257568476695\n",
      "number of components  3  accuracy  0.5271504084574724\n",
      "number of components  4  accuracy  0.6727534839019702\n",
      "number of components  5  accuracy  0.7265737626141279\n",
      "number of components  6  accuracy  0.7976934166266219\n",
      "number of components  7  accuracy  0.8015377222489188\n",
      "number of components  8  accuracy  0.8385391638635271\n",
      "number of components  9  accuracy  0.8486304661220567\n",
      "number of components  10  accuracy  0.8592023065833734\n",
      "number of components  11  accuracy  0.8673714560307545\n",
      "number of components  12  accuracy  0.8673714560307545\n",
      "number of components  13  accuracy  0.873618452666987\n",
      "number of components  14  accuracy  0.8745795290725613\n",
      "number of components  15  accuracy  0.889476213358962\n",
      "number of components  16  accuracy  0.8865929841422393\n",
      "number of components  17  accuracy  0.889476213358962\n",
      "number of components  18  accuracy  0.8942815953868333\n",
      "number of components  19  accuracy  0.8957232099951946\n",
      "number of components  20  accuracy  0.8957232099951946\n",
      "number of components  21  accuracy  0.893320518981259\n",
      "number of components  22  accuracy  0.8981259010091303\n",
      "number of components  23  accuracy  0.9014896684286401\n",
      "number of components  24  accuracy  0.8986064392119173\n",
      "number of components  25  accuracy  0.9034118212397886\n",
      "number of components  26  accuracy  0.8962037481979818\n",
      "number of components  27  accuracy  0.9019702066314272\n",
      "number of components  28  accuracy  0.9024507448342143\n",
      "number of components  29  accuracy  0.9053339740509371\n"
     ]
    }
   ],
   "source": [
    "for k in range(2, 30):\n",
    "    pca, X_pca = do_pca(k, data1)\n",
    "    acc = fit_random_forest_classifier2(X_pca, y)\n",
    "    print('number of components ',k, ' accuracy ',acc)"
   ]
  },
  {
   "cell_type": "markdown",
   "metadata": {},
   "source": [
    " "
   ]
  },
  {
   "cell_type": "code",
   "execution_count": 18,
   "metadata": {},
   "outputs": [
    {
     "data": {
      "image/png": "[encoded data removed]",
      "text/plain": [
       "<Figure size 720x432 with 1 Axes>"
      ]
     },
     "metadata": {},
     "output_type": "display_data"
    }
   ],
   "source": [
    "plot_components(X_pca[:100], y[:100])"
   ]
  },
  {
   "cell_type": "code",
   "execution_count": 19,
   "metadata": {},
   "outputs": [
    {
     "data": {
      "image/png": "[encoded data removed]",
      "text/plain": [
       "<Figure size 720x432 with 1 Axes>"
      ]
     },
     "metadata": {},
     "output_type": "display_data"
    }
   ],
   "source": [
    "plot_components(X_pca[:30], y[:30])"
   ]
  }
 ],
 "metadata": {
  "kernelspec": {
   "display_name": "Python 3",
   "language": "python",
   "name": "python3"
  },
  "language_info": {
   "codemirror_mode": {
    "name": "ipython",
    "version": 3
   },
   "file_extension": ".py",
   "mimetype": "text/x-python",
   "name": "python",
   "nbconvert_exporter": "python",
   "pygments_lexer": "ipython3",
   "version": "3.7.6"
  }
 },
 "nbformat": 4,
 "nbformat_minor": 2
}
